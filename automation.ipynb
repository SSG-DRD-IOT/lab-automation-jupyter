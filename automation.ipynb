{
 "cells": [
  {
   "cell_type": "markdown",
   "metadata": {},
   "source": [
    "# Automation\n",
    "\n",
    "## Introduction\n",
    "\n",
    "Condition Based Monitoring, sometimes called Edge Network Automation, is the idea that edge sensors and actuators should not be responsible for decision making or coordinating the responses to various edge network condition. However, neither should all of this decision making and analytics processing be performed in the cloud. The IoT Gateway should be remotely programmable by an IoT administrator or software developer in such a way that local events can be automatically managed and reported. Intelligent closed loop systems are able to coordinate responses to conditions on their own networks and report back to the cloud or a network operation center.\n",
    "\n",
    "In the example of a temperature controlled room, the temperature sensor is reporting the temperature to the Intel® IoT Gateway and the gateway is responsible for triggering an IoT event. An IoT Event (also called a trigger in this workshop) always has a conditions function and a trigger function. In the case that the temperature is too hot the event may take automatic action to turn on the air conditioning on and send an alert to the person responsible for the room.\n",
    "\n",
    "\n",
    "\n",
    "## Purpose of the Lab\n",
    "\n",
    "In this lab, we will implement a Python based rules engine to automate IoT action on a network. This system can be used to build a smart home, a smart factory or other Internet of Things installations.\n",
    "\n",
    "The student should note that this implementation's primary goal is to teach the fundementals of implementing a rules based IoT automation system. \n",
    "\n",
    "There are many other considerations in building a more production ready environment. A production environment should consider the actors of the system such as the system administrators, business policy makers, factory workers, developers, etc ... It should also consider integration with the pre-existing software environment, enhanced security measures and building a human interface device and graphical user interface for the operators.\n",
    "\n",
    "This lab's purpose is to focus on the core ideas and not to distract with the many ways that it could be built out or integrated into other enviroments.\n",
    "\n",
    "## Objectives\n",
    "\n",
    "By the end of this module, you should be able to:\n",
    "\n",
    "* Implement your automation rules in the form of conditional actions called triggers that run on the edge network.\n",
    "* Read triggers from the database and evaluate whether any of them should be executed.\n",
    "* Write your own Automation Service\n",
    "\n",
    "\n"
   ]
  },
  {
   "cell_type": "markdown",
   "metadata": {},
   "source": [
    "## Prerequisites and Architecture Overview\n",
    "\n",
    "As we begin this lab, we assume that the developer has an Intel IoT device on the network and that there are **sensors on the network transmitting data over MQTT**.\n",
    "\n",
    "Our automation service will start by reading in a list of automation rules and listening to incoming MQTT sensor data.\n",
    "\n",
    "A Rule is defined to have a Name, and Sensor that it monitors, a true/false predicate function to determine whether the rule should be run and a function action to run if the predicate is true.\n",
    "\n",
    "To build this automation service, we will start by: \n",
    "1. **Defining a Rule Class** and creating several examples to get the student familiar with them. \n",
    "2. Secondly, we will **define several helper functions** that will allow us to use a function programming style to filter the list of Rules. When data comes in to the automation service, we will want to filter the list of Rules so that only rules that apply to incoming data are checked and evaluated.\n",
    "3. **Create a simple Python service to listen for MQTT**\n",
    "4. Use the **helper functions to filter the list of rules**.\n",
    "5. **Execute every rule whose predicate function evaluates to true**.\n",
    "\n",
    "\n",
    "## Implementing a Rule\n",
    "\n",
    "### The Rule Class\n",
    "\n",
    "Here is the definition of a Rule base class. To define a rule you will need to extend this class. \n",
    "\n",
    "This base class provides:\n",
    "* a **constructor function** that assigns the rule to a unique sensor on the network. \n",
    "* default **predicate function** which returns always False. This means that by default the action function is not never called. This function should be overridden in a derived class.\n",
    "* an **__do function** that calls the predicate function and if it returns true then calls the action function\n",
    "* an **action function** to perform the main task. This function should be overridden in a derived class.\n",
    "\n",
    "Note that the __\\_\\_do function__ is a private function that can not be accessed outside of the class."
   ]
  },
  {
   "cell_type": "code",
   "execution_count": 1,
   "metadata": {
    "collapsed": true
   },
   "outputs": [],
   "source": [
    "class Rule:\n",
    "    \"\"\"\n",
    "    A Base Class for defining IoT automation rules.\n",
    "    \"\"\"\n",
    "    \n",
    "    def __init__(self, sensorID):\n",
    "        \"\"\"\n",
    "        Constructor function that takes a id \n",
    "        that uniquely identifies a sensor.\n",
    "        \"\"\"\n",
    "        self.sensorID = sensorID\n",
    "    \n",
    "    def predicate(self, sensorValue):\n",
    "        \"In the base Rule class, the predicate always returns False\"\n",
    "        return False\n",
    "                    \n",
    "    def action(self, sensorValue):\n",
    "        print(\"Generic Rule activiation on \" + \n",
    "              self.sensorID + \" with senor value \" + str(sensorValue))    "
   ]
  },
  {
   "cell_type": "markdown",
   "metadata": {},
   "source": [
    "### Define a Subclass Rule Class that can be Instantiated\n",
    "\n",
    "Now that we've defined the base Rule class, we can show examples of how to use it to derive a specific rule class.\n",
    "\n",
    "The sky is the limit with the action that you choose to define. Some common action might be to sent a text message to a list of system administrators when something isn't working properly, or to log a message to a database. You can include any Python libraries that you wish when defining these functions.\n",
    "\n",
    "Let define a simple **Rule that prints to the console when the temperature rises over 25C**."
   ]
  },
  {
   "cell_type": "code",
   "execution_count": 2,
   "metadata": {
    "collapsed": true
   },
   "outputs": [],
   "source": [
    "class TemperatureOver25(Rule):\n",
    "    def predicate(self, sensorValue):\n",
    "        return sensorValue > 25\n",
    "    \n",
    "    def action(self, sensorValue):\n",
    "        print(\"Temperature Over 25 Rule activated on \" + self.sensorID + \" with senor value \" + str(sensorValue))"
   ]
  },
  {
   "cell_type": "markdown",
   "metadata": {},
   "source": [
    "And another rule that **prints to the console if the temperature falls below 20C**."
   ]
  },
  {
   "cell_type": "code",
   "execution_count": 3,
   "metadata": {},
   "outputs": [],
   "source": [
    "class TemperatureUnder20(Rule):\n",
    "    def predicate(self, sensorValue):\n",
    "        return sensorValue < 20\n",
    "    \n",
    "    def action(self, sensorValue):\n",
    "        print(\"Temperature Under 20 Rule activated on \" + \n",
    "              self.sensorID + \" with senor value \" + str(sensorValue))\n",
    "        "
   ]
  },
  {
   "cell_type": "markdown",
   "metadata": {},
   "source": [
    "And another rule that **prints to the console if the rotary angle sensor is over 500 **."
   ]
  },
  {
   "cell_type": "code",
   "execution_count": 4,
   "metadata": {
    "collapsed": true
   },
   "outputs": [],
   "source": [
    "class RotaryAngleOver500(Rule):\n",
    "    def predicate(self, sensorValue):\n",
    "        return sensorValue > 500\n",
    "    \n",
    "    def action(self, sensorValue):\n",
    "        print(\"Rotary Angle Sensor over 500. Rule activated on \" + \n",
    "              self.sensorID + \" with senor value \" + str(sensorValue))\n",
    "        "
   ]
  },
  {
   "cell_type": "markdown",
   "metadata": {},
   "source": [
    "### Instantiate the Rules\n",
    "\n",
    "Each rule is instantiated by passing in a temperature sensor that the rule monitors. Then we will add the rules to a Python list and displaying them. A list will allow us to use functional programming to filter and execute the rules."
   ]
  },
  {
   "cell_type": "code",
   "execution_count": 5,
   "metadata": {},
   "outputs": [],
   "source": [
    "r1 = Rule(\"generic_Sensor\")  # Generic Rule assigned to a sensor name \"generic_Sensor\"\n",
    "r2 = TemperatureOver25(\"temperature\") # Derived rule assigned to a sensor name \"temperature\"\n",
    "r3 = TemperatureUnder20(\"temperature\") # Derived rule assigned to a sensor name \"temperature\"\n",
    "r4 = RotaryAngleOver500(\"rotaryAngle\") # RotaryAngleOver500 assigned to a sensor name \"rotaryAngle\""
   ]
  },
  {
   "cell_type": "code",
   "execution_count": 6,
   "metadata": {},
   "outputs": [
    {
     "data": {
      "text/plain": [
       "[<__main__.Rule instance at 0x104eb9320>,\n",
       " <__main__.TemperatureOver25 instance at 0x104eae8c0>,\n",
       " <__main__.TemperatureUnder20 instance at 0x104eb9368>,\n",
       " <__main__.RotaryAngleOver500 instance at 0x104eb9170>]"
      ]
     },
     "execution_count": 6,
     "metadata": {},
     "output_type": "execute_result"
    }
   ],
   "source": [
    "rules = [r1, r2, r3, r4]\n",
    "rules"
   ]
  },
  {
   "cell_type": "markdown",
   "metadata": {},
   "source": [
    "### Define Helper Functions\n",
    "\n",
    "Theses helper functions will take the entire list of automation rules and filter it based on sensorID. Becasue we are listening to JSON object that contain a **sensorID**, a **value** and a **timestamp**, this enables us to filter the automation rules to only include the rules that apply to the sensorID of the incoming data."
   ]
  },
  {
   "cell_type": "code",
   "execution_count": 7,
   "metadata": {
    "collapsed": true
   },
   "outputs": [],
   "source": [
    "def filterBySensorId(sensorID, rules):\n",
    "    \"Filter a list of rules by sensorID\"\n",
    "    return [rule for rule in rules if rule.sensorID == sensorID]"
   ]
  },
  {
   "cell_type": "markdown",
   "metadata": {},
   "source": [
    "The second filter that we will define will take a list of automation rules determine if there **predicate** functions will evaluate to **True** based on the incoming data."
   ]
  },
  {
   "cell_type": "code",
   "execution_count": 8,
   "metadata": {
    "collapsed": true
   },
   "outputs": [],
   "source": [
    "def evalPredicate(sensorData, rules):\n",
    "    \"Filter a list of rules by its predicate\"\n",
    "    [rule for rule in rules if rule.predicate(sensorData) == True]"
   ]
  },
  {
   "cell_type": "markdown",
   "metadata": {},
   "source": [
    "### Test the Helper Functions\n",
    "\n",
    "The ***filterBySensorId*** function takes the list of all rules and returns the rules associated with a given sensor. In this case, we will filter rules by the sensor named \"temperature.\"  There will be two rules associated with \"temperature\"."
   ]
  },
  {
   "cell_type": "code",
   "execution_count": 9,
   "metadata": {},
   "outputs": [
    {
     "name": "stdout",
     "output_type": "stream",
     "text": [
      "[<__main__.TemperatureOver25 instance at 0x104eae8c0>, <__main__.TemperatureUnder20 instance at 0x104eb9368>]\n"
     ]
    }
   ],
   "source": [
    "filteredRules = filterBySensorId(\"temperature\", rules)\n",
    "print filteredRules"
   ]
  },
  {
   "cell_type": "markdown",
   "metadata": {},
   "source": [
    "The ***evalPredicate*** function takes the list of all rules and evaluates the rules predicate function. It returns a list of booleans for each rule function. Let's pass in a sensor data point of 10 degrees. Only the ***TemperatureUnder15Rule*** will return **True**, and therefore it is the only rule that should execute."
   ]
  },
  {
   "cell_type": "code",
   "execution_count": 10,
   "metadata": {},
   "outputs": [
    {
     "data": {
      "text/plain": [
       "[[<__main__.TemperatureOver25 instance at 0x104eae8c0>, False],\n",
       " [<__main__.TemperatureUnder20 instance at 0x104eb9368>, True]]"
      ]
     },
     "execution_count": 10,
     "metadata": {},
     "output_type": "execute_result"
    }
   ],
   "source": [
    "[[r, r.predicate(10)] for r in filteredRules] # Only the TemperatureUnder15Rule rule will evaluate to True and execute"
   ]
  },
  {
   "cell_type": "markdown",
   "metadata": {},
   "source": [
    "## Declare Sensor Data JSON Objects\n",
    "\n",
    "Next we will setup the JSON library and declare a temperature JSON object. This JSON format is the same JSON format that you will see from the **sensor labs** and **virtual sensor tool**."
   ]
  },
  {
   "cell_type": "code",
   "execution_count": 11,
   "metadata": {
    "collapsed": true
   },
   "outputs": [],
   "source": [
    "import json, sys"
   ]
  },
  {
   "cell_type": "markdown",
   "metadata": {},
   "source": [
    "Let's declare a couple of sensor data JSON objects."
   ]
  },
  {
   "cell_type": "code",
   "execution_count": 12,
   "metadata": {},
   "outputs": [
    {
     "name": "stdout",
     "output_type": "stream",
     "text": [
      "Three JSON Sensor Data Strings\n",
      "==============================\n",
      "\n",
      "{\n",
      "  \"sensor_id\":\"rotaryAngle\",\n",
      "  \"value\":600,\n",
      "  \"timestamp\":1513807710949\n",
      "}\n",
      "\n",
      "\n",
      "{\n",
      "  \"sensor_id\":\"temperature\",\n",
      "  \"value\":40,\n",
      "  \"timestamp\":1513807710949\n",
      "}\n",
      "\n",
      "\n",
      "{\n",
      "  \"sensor_id\":\"temperature\",\n",
      "  \"value\":10,\n",
      "  \"timestamp\":1513807710949\n",
      "}\n",
      "\n"
     ]
    }
   ],
   "source": [
    "# Declare a sample piece of data that comes from the temperature sensor\n",
    "high_rotaryAngle_String = '''\n",
    "{\n",
    "  \"sensor_id\":\"rotaryAngle\",\n",
    "  \"value\":600,\n",
    "  \"timestamp\":1513807710949\n",
    "}\n",
    "'''\n",
    "\n",
    "high_temperature_String = '''\n",
    "{\n",
    "  \"sensor_id\":\"temperature\",\n",
    "  \"value\":40,\n",
    "  \"timestamp\":1513807710949\n",
    "}\n",
    "'''\n",
    "\n",
    "low_temperature_String = '''\n",
    "{\n",
    "  \"sensor_id\":\"temperature\",\n",
    "  \"value\":10,\n",
    "  \"timestamp\":1513807710949\n",
    "}\n",
    "'''\n",
    "print(\"Three JSON Sensor Data Strings\")\n",
    "print(\"==============================\")\n",
    "print(high_rotaryAngle_String)\n",
    "print(high_temperature_String)\n",
    "print(low_temperature_String)"
   ]
  },
  {
   "cell_type": "markdown",
   "metadata": {},
   "source": [
    "Let's parse these JSON strings into JSON objects"
   ]
  },
  {
   "cell_type": "code",
   "execution_count": 13,
   "metadata": {},
   "outputs": [],
   "source": [
    "try:\n",
    "    high_rotaryAngle_JSON = json.loads(high_rotaryAngle_String)\n",
    "    high_temperature_JSON = json.loads(high_temperature_String)\n",
    "    low_temperature_JSON = json.loads(low_temperature_String)\n",
    "except:\n",
    "     print(\"Unexpected error:\", sys.exc_info()[0])"
   ]
  },
  {
   "cell_type": "code",
   "execution_count": 14,
   "metadata": {},
   "outputs": [
    {
     "name": "stdout",
     "output_type": "stream",
     "text": [
      "The rotary angle value is 600.\n",
      "The high temperature value is 40.\n",
      "The lower temperature value is 10.\n"
     ]
    }
   ],
   "source": [
    "high_rotaryAngle_Value = high_rotaryAngle_JSON['value']\n",
    "print(\"The rotary angle value is %d.\" % high_rotaryAngle_Value)\n",
    "\n",
    "high_temperature_Value = high_temperature_JSON['value']\n",
    "print(\"The high temperature value is %d.\" % high_temperature_Value)\n",
    "\n",
    "low_temperature_Value = low_temperature_JSON['value']\n",
    "print(\"The lower temperature value is %d.\" % low_temperature_Value)"
   ]
  },
  {
   "cell_type": "markdown",
   "metadata": {},
   "source": [
    "## Use Helper functions to Execute a Rule's Action\n",
    "\n",
    "This is the procedure\n",
    "1. Filter the rules by sensorID\n",
    "2. Check the predicate for each filtered rule\n",
    "3. Execute the *action* function for each True predicate\n",
    "\n",
    "#### For the **rotaryAngle** sensor data:"
   ]
  },
  {
   "cell_type": "code",
   "execution_count": 15,
   "metadata": {},
   "outputs": [
    {
     "name": "stdout",
     "output_type": "stream",
     "text": [
      "[<__main__.RotaryAngleOver500 instance at 0x104eb9170>]\n"
     ]
    }
   ],
   "source": [
    "# Filter by sensor\n",
    "filteredRules = filterBySensorId(\"rotaryAngle\", rules)\n",
    "print filteredRules"
   ]
  },
  {
   "cell_type": "code",
   "execution_count": 16,
   "metadata": {},
   "outputs": [
    {
     "name": "stdout",
     "output_type": "stream",
     "text": [
      "Rotary Angle Sensor over 500. Rule activated on rotaryAngle with senor value 600\n"
     ]
    },
    {
     "data": {
      "text/plain": [
       "[None]"
      ]
     },
     "execution_count": 16,
     "metadata": {},
     "output_type": "execute_result"
    }
   ],
   "source": [
    "# Execute the action function for each predicate that's True\n",
    "[r.action(high_rotaryAngle_Value) \n",
    "  for r in filteredRules\n",
    "    if r.predicate(high_rotaryAngle_Value) == True]"
   ]
  },
  {
   "cell_type": "markdown",
   "metadata": {},
   "source": [
    "#### For the High Temperature Sensor"
   ]
  },
  {
   "cell_type": "code",
   "execution_count": 17,
   "metadata": {},
   "outputs": [
    {
     "name": "stdout",
     "output_type": "stream",
     "text": [
      "[<__main__.TemperatureOver25 instance at 0x104eae8c0>, <__main__.TemperatureUnder20 instance at 0x104eb9368>]\n"
     ]
    }
   ],
   "source": [
    "# Filter by sensor\n",
    "filteredRules = filterBySensorId(\"temperature\", rules)\n",
    "print filteredRules"
   ]
  },
  {
   "cell_type": "code",
   "execution_count": 18,
   "metadata": {},
   "outputs": [
    {
     "name": "stdout",
     "output_type": "stream",
     "text": [
      "Temperature Over 25 Rule activated on temperature with senor value 40\n"
     ]
    },
    {
     "data": {
      "text/plain": [
       "[None]"
      ]
     },
     "execution_count": 18,
     "metadata": {},
     "output_type": "execute_result"
    }
   ],
   "source": [
    "# Execute the action function for each predicate that's True\n",
    "[r.action(high_temperature_Value) \n",
    "  for r in filteredRules\n",
    "    if r.predicate(high_temperature_Value) == True]"
   ]
  },
  {
   "cell_type": "markdown",
   "metadata": {},
   "source": [
    "#### For the Low Temperature Sensor"
   ]
  },
  {
   "cell_type": "code",
   "execution_count": 19,
   "metadata": {},
   "outputs": [
    {
     "name": "stdout",
     "output_type": "stream",
     "text": [
      "[<__main__.TemperatureOver25 instance at 0x104eae8c0>, <__main__.TemperatureUnder20 instance at 0x104eb9368>]\n"
     ]
    }
   ],
   "source": [
    "# Filter by sensor\n",
    "filteredRules = filterBySensorId(\"temperature\", rules)\n",
    "print filteredRules"
   ]
  },
  {
   "cell_type": "code",
   "execution_count": 20,
   "metadata": {},
   "outputs": [
    {
     "name": "stdout",
     "output_type": "stream",
     "text": [
      "Temperature Under 20 Rule activated on temperature with senor value 10\n"
     ]
    },
    {
     "data": {
      "text/plain": [
       "[None]"
      ]
     },
     "execution_count": 20,
     "metadata": {},
     "output_type": "execute_result"
    }
   ],
   "source": [
    "# Execute the action function for each predicate that's True\n",
    "[r.action(low_temperature_Value) \n",
    "  for r in filteredRules\n",
    "    if r.predicate(low_temperature_Value) == True]"
   ]
  },
  {
   "cell_type": "markdown",
   "metadata": {},
   "source": [
    "## Setup the MQTT subscription of the Automation Service"
   ]
  },
  {
   "cell_type": "code",
   "execution_count": 21,
   "metadata": {},
   "outputs": [],
   "source": [
    "import paho.mqtt.client as mqtt"
   ]
  },
  {
   "cell_type": "code",
   "execution_count": 22,
   "metadata": {
    "collapsed": true
   },
   "outputs": [],
   "source": [
    "def on_connect(mqttc, obj, flags, rc):\n",
    "    print(\"rc: \" + str(rc))"
   ]
  },
  {
   "cell_type": "code",
   "execution_count": 23,
   "metadata": {
    "collapsed": true
   },
   "outputs": [],
   "source": [
    "def on_message(mqttc, obj, msg):\n",
    "    print(msg.topic + \" \" + str(msg.qos) + \" \" + str(msg.payload))\n",
    "    try:\n",
    "        parsed_json = json.loads(msg.payload)\n",
    "    except:\n",
    "        print(\"Unexpected error:\", sys.exc_info()[0])\n",
    "    \n",
    "    sensorId = parsed_json['sensor_id']\n",
    "    sensorValue = float(parsed_json['value'])\n",
    "    \n",
    "    filteredRules = filterBySensorId(sensorId, rules)\n",
    "    \n",
    "    [r.action(sensorValue) \n",
    "        for r in filteredRules\n",
    "            if r.predicate(sensorValue) == True]\n"
   ]
  },
  {
   "cell_type": "code",
   "execution_count": 24,
   "metadata": {
    "collapsed": true
   },
   "outputs": [],
   "source": [
    "def on_subscribe(mqttc, obj, mid, granted_qos):\n",
    "    print(\"Subscribed: \" + str(mid) + \" \" + str(granted_qos))"
   ]
  },
  {
   "cell_type": "code",
   "execution_count": 25,
   "metadata": {
    "collapsed": true
   },
   "outputs": [],
   "source": [
    "def on_log(mqttc, obj, level, string):\n",
    "    print(string)"
   ]
  },
  {
   "cell_type": "code",
   "execution_count": 26,
   "metadata": {
    "collapsed": true
   },
   "outputs": [],
   "source": [
    "mqttc = mqtt.Client()\n",
    "mqttc.on_message = on_message\n",
    "mqttc.on_connect = on_connect\n",
    "mqttc.on_subscribe = on_subscribe\n",
    "\n",
    "# Uncomment to enable debug messages\n",
    "# mqttc.on_log = on_log"
   ]
  },
  {
   "cell_type": "code",
   "execution_count": 27,
   "metadata": {},
   "outputs": [
    {
     "data": {
      "text/plain": [
       "0"
      ]
     },
     "execution_count": 27,
     "metadata": {},
     "output_type": "execute_result"
    }
   ],
   "source": [
    "mqttc.connect(\"localhost\", 1883, 60)"
   ]
  },
  {
   "cell_type": "code",
   "execution_count": 28,
   "metadata": {},
   "outputs": [
    {
     "data": {
      "text/plain": [
       "(0, 1)"
      ]
     },
     "execution_count": 28,
     "metadata": {},
     "output_type": "execute_result"
    }
   ],
   "source": [
    "mqttc.subscribe(\"sensors/+/data\")"
   ]
  },
  {
   "cell_type": "code",
   "execution_count": null,
   "metadata": {},
   "outputs": [
    {
     "name": "stdout",
     "output_type": "stream",
     "text": [
      "rc: 0\n",
      "Subscribed: 1 (0,)\n",
      "sensors/temperature/data 0 {\"sensor_id\":\"temperature\",\"value\":24,\"timestamp\":1515801946988}\n",
      "sensors/temperature/data 0 {\"sensor_id\":\"temperature\",\"value\":21,\"timestamp\":1515801947991}\n",
      "sensors/temperature/data 0 {\"sensor_id\":\"temperature\",\"value\":20,\"timestamp\":1515801948994}\n",
      "sensors/temperature/data 0 {\"sensor_id\":\"temperature\",\"value\":27,\"timestamp\":1515801949997}\n",
      "Temperature Over 25 Rule activated on temperature with senor value 27\n",
      "sensors/temperature/data 0 {\"sensor_id\":\"temperature\",\"value\":29,\"timestamp\":1515801951002}\n",
      "Temperature Over 25 Rule activated on temperature with senor value 29\n",
      "sensors/temperature/data 0 {\"sensor_id\":\"temperature\",\"value\":19,\"timestamp\":1515801952008}\n",
      "Temperature Under 20 Rule activated on temperature with senor value 19\n",
      "sensors/temperature/data 0 {\"sensor_id\":\"temperature\",\"value\":29,\"timestamp\":1515801953007}\n",
      "Temperature Over 25 Rule activated on temperature with senor value 29\n",
      "sensors/temperature/data 0 {\"sensor_id\":\"temperature\",\"value\":23,\"timestamp\":1515801954013}\n",
      "sensors/temperature/data 0 {\"sensor_id\":\"temperature\",\"value\":25,\"timestamp\":1515801955017}\n",
      "sensors/temperature/data 0 {\"sensor_id\":\"temperature\",\"value\":25,\"timestamp\":1515801956018}\n",
      "sensors/temperature/data 0 {\"sensor_id\":\"temperature\",\"value\":23,\"timestamp\":1515801957018}\n",
      "sensors/temperature/data 0 {\"sensor_id\":\"temperature\",\"value\":28,\"timestamp\":1515801958019}\n",
      "Temperature Over 25 Rule activated on temperature with senor value 28\n",
      "sensors/temperature/data 0 {\"sensor_id\":\"temperature\",\"value\":19,\"timestamp\":1515801959020}\n",
      "Temperature Under 20 Rule activated on temperature with senor value 19\n",
      "sensors/temperature/data 0 {\"sensor_id\":\"temperature\",\"value\":23,\"timestamp\":1515801960023}\n",
      "sensors/temperature/data 0 {\"sensor_id\":\"temperature\",\"value\":21,\"timestamp\":1515801961024}\n",
      "sensors/temperature/data 0 {\"sensor_id\":\"temperature\",\"value\":26,\"timestamp\":1515801962027}\n",
      "Temperature Over 25 Rule activated on temperature with senor value 26\n",
      "sensors/temperature/data 0 {\"sensor_id\":\"temperature\",\"value\":18,\"timestamp\":1515801963028}\n",
      "Temperature Under 20 Rule activated on temperature with senor value 18\n",
      "sensors/temperature/data 0 {\"sensor_id\":\"temperature\",\"value\":18,\"timestamp\":1515801964038}\n",
      "Temperature Under 20 Rule activated on temperature with senor value 18\n",
      "sensors/temperature/data 0 {\"sensor_id\":\"temperature\",\"value\":18,\"timestamp\":1515801965042}\n",
      "Temperature Under 20 Rule activated on temperature with senor value 18\n",
      "sensors/temperature/data 0 {\"sensor_id\":\"temperature\",\"value\":29,\"timestamp\":1515801966047}\n",
      "Temperature Over 25 Rule activated on temperature with senor value 29\n"
     ]
    }
   ],
   "source": [
    "mqttc.loop_forever()"
   ]
  },
  {
   "cell_type": "code",
   "execution_count": null,
   "metadata": {
    "collapsed": true
   },
   "outputs": [],
   "source": []
  }
 ],
 "metadata": {
  "kernelspec": {
   "display_name": "Python 2",
   "language": "python",
   "name": "python2"
  },
  "language_info": {
   "codemirror_mode": {
    "name": "ipython",
    "version": 2
   },
   "file_extension": ".py",
   "mimetype": "text/x-python",
   "name": "python",
   "nbconvert_exporter": "python",
   "pygments_lexer": "ipython2",
   "version": "2.7.14"
  }
 },
 "nbformat": 4,
 "nbformat_minor": 2
}
